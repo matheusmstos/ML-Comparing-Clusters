{
 "cells": [
  {
   "cell_type": "code",
   "execution_count": 1,
   "metadata": {},
   "outputs": [],
   "source": [
    "import numpy as np\n",
    "import pandas as pd\n",
    "import seaborn as sns\n",
    "import matplotlib.pyplot as plt\n",
    "from sklearn import metrics\n",
    "from sklearn.cluster import KMeans\n",
    "%matplotlib inline"
   ]
  },
  {
   "cell_type": "code",
   "execution_count": 2,
   "metadata": {},
   "outputs": [
    {
     "data": {
      "text/html": [
       "<div>\n",
       "<style scoped>\n",
       "    .dataframe tbody tr th:only-of-type {\n",
       "        vertical-align: middle;\n",
       "    }\n",
       "\n",
       "    .dataframe tbody tr th {\n",
       "        vertical-align: top;\n",
       "    }\n",
       "\n",
       "    .dataframe thead th {\n",
       "        text-align: right;\n",
       "    }\n",
       "</style>\n",
       "<table border=\"1\" class=\"dataframe\">\n",
       "  <thead>\n",
       "    <tr style=\"text-align: right;\">\n",
       "      <th></th>\n",
       "      <th>Borough</th>\n",
       "      <th>X Coordinate (State Plane)</th>\n",
       "      <th>Y Coordinate (State Plane)</th>\n",
       "    </tr>\n",
       "  </thead>\n",
       "  <tbody>\n",
       "    <tr>\n",
       "      <th>6706</th>\n",
       "      <td>BROOKLYN</td>\n",
       "      <td>998758.0</td>\n",
       "      <td>172547.0</td>\n",
       "    </tr>\n",
       "    <tr>\n",
       "      <th>30972</th>\n",
       "      <td>BROOKLYN</td>\n",
       "      <td>1016768.0</td>\n",
       "      <td>187026.0</td>\n",
       "    </tr>\n",
       "    <tr>\n",
       "      <th>9276</th>\n",
       "      <td>MANHATTAN</td>\n",
       "      <td>999990.0</td>\n",
       "      <td>236597.0</td>\n",
       "    </tr>\n",
       "    <tr>\n",
       "      <th>66842</th>\n",
       "      <td>BROOKLYN</td>\n",
       "      <td>1013815.0</td>\n",
       "      <td>183443.0</td>\n",
       "    </tr>\n",
       "    <tr>\n",
       "      <th>54919</th>\n",
       "      <td>MANHATTAN</td>\n",
       "      <td>997649.0</td>\n",
       "      <td>233293.0</td>\n",
       "    </tr>\n",
       "  </tbody>\n",
       "</table>\n",
       "</div>"
      ],
      "text/plain": [
       "         Borough  X Coordinate (State Plane)  Y Coordinate (State Plane)\n",
       "6706    BROOKLYN                    998758.0                    172547.0\n",
       "30972   BROOKLYN                   1016768.0                    187026.0\n",
       "9276   MANHATTAN                    999990.0                    236597.0\n",
       "66842   BROOKLYN                   1013815.0                    183443.0\n",
       "54919  MANHATTAN                    997649.0                    233293.0"
      ]
     },
     "execution_count": 2,
     "metadata": {},
     "output_type": "execute_result"
    }
   ],
   "source": [
    "data = pd.read_csv('Rat_Sightings.csv')\n",
    "\n",
    "data = data.sample(frac=0.1, random_state=200)\n",
    "data = data.iloc[:, 23:26]\n",
    "data.head()"
   ]
  },
  {
   "cell_type": "markdown",
   "metadata": {},
   "source": [
    "# Data treatment"
   ]
  },
  {
   "cell_type": "code",
   "execution_count": 3,
   "metadata": {},
   "outputs": [
    {
     "name": "stdout",
     "output_type": "stream",
     "text": [
      "10117\n"
     ]
    },
    {
     "data": {
      "text/plain": [
       "array([['BROOKLYN', 998758.0, 172547.0],\n",
       "       ['BROOKLYN', 1016768.0, 187026.0],\n",
       "       ['MANHATTAN', 999990.0, 236597.0],\n",
       "       ...,\n",
       "       ['BROOKLYN', 993049.0, 188952.0],\n",
       "       ['MANHATTAN', 990022.0, 202268.0],\n",
       "       ['QUEENS', 1038504.0, 190253.0]], dtype=object)"
      ]
     },
     "execution_count": 3,
     "metadata": {},
     "output_type": "execute_result"
    }
   ],
   "source": [
    "#pega os dados do data set\n",
    "list1=list(data['X Coordinate (State Plane)'])\n",
    "list2=list(data['Y Coordinate (State Plane)'])\n",
    "list3=list(data['Borough'])\n",
    "\n",
    "#transforma os dados em uma lista conjunta\n",
    "X = zip(list3,list1,list2)\n",
    "dt=np.dtype('object')\n",
    "listaSemNaN=[]\n",
    "X=list(X)\n",
    "\n",
    "# print(X[i][0])\n",
    "#remove dessa lista valores que causam erros por não serem numeros\n",
    "for i in range(0,len(X)):\n",
    "    tup=X[i]\n",
    "    \n",
    "    if((X[i][0] == X[i][0]) is False or (X[i][1] == X[i][1]) is False or (X[i][1] == X[i][1]) is False):\n",
    "        nada = 0 #print \"Não é NaN\"\n",
    "    else:\n",
    "        listaSemNaN.append(tup)\n",
    "            \n",
    "#Transforma em um NP.Array para realizar contas matematicas da blibioteca numpy\n",
    "X = np.array(listaSemNaN,dtype=dt)\n",
    "\n",
    "# print(len(real_labels))\n",
    "print(len(X))\n",
    "X"
   ]
  },
  {
   "cell_type": "markdown",
   "metadata": {},
   "source": [
    "#  Classification with Kmeans ans Labeling"
   ]
  },
  {
   "cell_type": "code",
   "execution_count": null,
   "metadata": {},
   "outputs": [],
   "source": [
    "scores = []\n",
    "pred_labels = []\n",
    "start = 5\n",
    "range_values = np.arange(start, 6)\n",
    "\n",
    "for i in range_values:\n",
    "    kmeans = KMeans(init= 'k-means++', n_clusters=i, n_init=10, random_state =1)\n",
    "    teste = kmeans.fit_predict(X)\n",
    "    score = metrics.silhouette_score(X, kmeans.labels_, metric='euclidean', sample_size=len(data))\n",
    "    label = kmeans.labels_\n",
    "    \n",
    "#     plt.figure(figsize=(10,6))\n",
    "#     plt.scatter(X[:, 0], X[:, 1], c=label)\n",
    "#     plt.title(\"Teste num de cluster \"+str(i))\n",
    "    \n",
    "    print('\\nNumber of clusters =', i)\n",
    "    print('Silhouette score =', score)\n",
    "    print('Labels =', label)\n",
    "    \n",
    "    scores.append(score)\n",
    "    pred_labels.append(label)"
   ]
  },
  {
   "cell_type": "code",
   "execution_count": 5,
   "metadata": {},
   "outputs": [],
   "source": [
    "# #data [data['Borough'] == 'BROOKLYN']\n",
    "# real_labels = [];\n",
    "\n",
    "# for i in range(0,len(X)):\n",
    "#     tup=X[i]\n",
    "#     if((X[i][0] == X[i][0]) is False or (X[i][1] == X[i][1]) is False):\n",
    "#         nada = 0 #print \"Não é NaN\"\n",
    "#     else:\n",
    "#         if(data.iloc[i,0] == 'BROOKLYN'):\n",
    "#             real_labels.append(3);\n",
    "#         elif(data.iloc[i,0] == 'MANHATTAN') :\n",
    "#             real_labels.append(4);\n",
    "#         elif(data.iloc[i,0] == 'BRONX') :\n",
    "#             real_labels.append(1);\n",
    "#         elif(data.iloc[i,0] == 'STATEN ISLAND') :\n",
    "#             real_labels.append(2);\n",
    "#         elif(data.iloc[i,0] == 'QUEENS') :\n",
    "#             real_labels.append(0);\n",
    "\n",
    "#data [data['Borough'] == 'BROOKLYN']\n",
    "real_labels = [];\n",
    "\n",
    "for i in range(0,len(X)):\n",
    "    if(X[i,0] == 'BROOKLYN'):\n",
    "        real_labels.append(3);\n",
    "    elif(X[i,0] == 'MANHATTAN') :\n",
    "        real_labels.append(4);\n",
    "    elif(X[i,0] == 'BRONX') :\n",
    "        real_labels.append(1);\n",
    "    elif(X[i,0] == 'STATEN ISLAND') :\n",
    "        real_labels.append(2);\n",
    "    elif(X[i,0] == 'QUEENS') :\n",
    "        real_labels.append(0);"
   ]
  },
  {
   "cell_type": "markdown",
   "metadata": {},
   "source": [
    "# Ploting with labels"
   ]
  },
  {
   "cell_type": "code",
   "execution_count": 6,
   "metadata": {},
   "outputs": [
    {
     "data": {
      "image/png": "[encoded data removed]",
      "text/plain": [
       "<matplotlib.figure.Figure at 0x10e4105f8>"
      ]
     },
     "metadata": {},
     "output_type": "display_data"
    }
   ],
   "source": [
    "#set font size of labels on matplotlib plots\n",
    "plt.rc('font', size=16)\n",
    "\n",
    "#set style of plots\n",
    "sns.set_style('white')\n",
    "\n",
    "#define a custom palette\n",
    "customPalette = ['#630C3A', '#39C8C6', '#D3500C', '#FFB139']\n",
    "sns.set_palette(customPalette)\n",
    "sns.palplot(customPalette)"
   ]
  },
  {
   "cell_type": "code",
   "execution_count": null,
   "metadata": {
    "scrolled": true
   },
   "outputs": [],
   "source": [
    "for i in range_values:\n",
    "    dp = pd.DataFrame({\"x\":np.array(X[:, 0]).flatten(), \n",
    "                       \"y\":np.array(X[:, 1]).flatten(), \n",
    "                       \"labels\":np.array(pred_labels[i-start]).flatten()})\n",
    "\n",
    "    #plot data with seaborn\n",
    "    facet = sns.lmplot(data=dp, x='x', y='y', hue='labels', size=5, aspect=1.8,\n",
    "                       fit_reg=False, legend=True, legend_out=True)\n",
    "#dp.head()"
   ]
  },
  {
   "cell_type": "code",
   "execution_count": 9,
   "metadata": {
    "scrolled": true
   },
   "outputs": [
    {
     "data": {
      "text/html": [
       "<div>\n",
       "<style scoped>\n",
       "    .dataframe tbody tr th:only-of-type {\n",
       "        vertical-align: middle;\n",
       "    }\n",
       "\n",
       "    .dataframe tbody tr th {\n",
       "        vertical-align: top;\n",
       "    }\n",
       "\n",
       "    .dataframe thead th {\n",
       "        text-align: right;\n",
       "    }\n",
       "</style>\n",
       "<table border=\"1\" class=\"dataframe\">\n",
       "  <thead>\n",
       "    <tr style=\"text-align: right;\">\n",
       "      <th></th>\n",
       "      <th>labels</th>\n",
       "      <th>x</th>\n",
       "      <th>y</th>\n",
       "    </tr>\n",
       "  </thead>\n",
       "  <tbody>\n",
       "    <tr>\n",
       "      <th>0</th>\n",
       "      <td>3</td>\n",
       "      <td>998758</td>\n",
       "      <td>172547</td>\n",
       "    </tr>\n",
       "    <tr>\n",
       "      <th>1</th>\n",
       "      <td>3</td>\n",
       "      <td>1.01677e+06</td>\n",
       "      <td>187026</td>\n",
       "    </tr>\n",
       "    <tr>\n",
       "      <th>2</th>\n",
       "      <td>4</td>\n",
       "      <td>999990</td>\n",
       "      <td>236597</td>\n",
       "    </tr>\n",
       "    <tr>\n",
       "      <th>3</th>\n",
       "      <td>3</td>\n",
       "      <td>1.01382e+06</td>\n",
       "      <td>183443</td>\n",
       "    </tr>\n",
       "    <tr>\n",
       "      <th>4</th>\n",
       "      <td>4</td>\n",
       "      <td>997649</td>\n",
       "      <td>233293</td>\n",
       "    </tr>\n",
       "    <tr>\n",
       "      <th>5</th>\n",
       "      <td>1</td>\n",
       "      <td>1.03104e+06</td>\n",
       "      <td>262779</td>\n",
       "    </tr>\n",
       "    <tr>\n",
       "      <th>6</th>\n",
       "      <td>3</td>\n",
       "      <td>985213</td>\n",
       "      <td>187405</td>\n",
       "    </tr>\n",
       "    <tr>\n",
       "      <th>7</th>\n",
       "      <td>1</td>\n",
       "      <td>1.00764e+06</td>\n",
       "      <td>237873</td>\n",
       "    </tr>\n",
       "    <tr>\n",
       "      <th>8</th>\n",
       "      <td>2</td>\n",
       "      <td>946736</td>\n",
       "      <td>172190</td>\n",
       "    </tr>\n",
       "    <tr>\n",
       "      <th>9</th>\n",
       "      <td>3</td>\n",
       "      <td>996017</td>\n",
       "      <td>190357</td>\n",
       "    </tr>\n",
       "  </tbody>\n",
       "</table>\n",
       "</div>"
      ],
      "text/plain": [
       "   labels            x       y\n",
       "0       3       998758  172547\n",
       "1       3  1.01677e+06  187026\n",
       "2       4       999990  236597\n",
       "3       3  1.01382e+06  183443\n",
       "4       4       997649  233293\n",
       "5       1  1.03104e+06  262779\n",
       "6       3       985213  187405\n",
       "7       1  1.00764e+06  237873\n",
       "8       2       946736  172190\n",
       "9       3       996017  190357"
      ]
     },
     "execution_count": 9,
     "metadata": {},
     "output_type": "execute_result"
    },
    {
     "data": {
      "image/png": "[encoded data removed]",
      "text/plain": [
       "<matplotlib.figure.Figure at 0x10d8c4160>"
      ]
     },
     "metadata": {},
     "output_type": "display_data"
    }
   ],
   "source": [
    "start = 5\n",
    "range_values = np.arange(start, 6)\n",
    "for i in range_values:\n",
    "    dr = pd.DataFrame({\"x\":np.array(X[:, 1]).flatten(), \n",
    "                       \"y\":np.array(X[:, 2]).flatten(), \n",
    "                       \"labels\":np.array(real_labels).flatten()})\n",
    "\n",
    "    #plot data with seaborn\n",
    "    facet = sns.lmplot(data=dr, x='x', y='y', hue='labels', size=5, aspect=1.8,\n",
    "                       fit_reg=False, legend=True, legend_out=True)\n",
    "dr.head(10)"
   ]
  },
  {
   "cell_type": "code",
   "execution_count": null,
   "metadata": {},
   "outputs": [],
   "source": [
    "    facet = sns.lmplot(data=data, x='X Coordinate (State Plane)', y='Y Coordinate (State Plane)', hue='Borough', size=5, aspect=1.8,\n",
    "                       fit_reg=False, legend=True, legend_out=True)"
   ]
  },
  {
   "cell_type": "markdown",
   "metadata": {},
   "source": [
    "# Kmeans Evaluation"
   ]
  },
  {
   "cell_type": "code",
   "execution_count": null,
   "metadata": {},
   "outputs": [],
   "source": [
    "len(pred_labels[0])"
   ]
  },
  {
   "cell_type": "code",
   "execution_count": null,
   "metadata": {},
   "outputs": [],
   "source": [
    "pred_labels[0]"
   ]
  },
  {
   "cell_type": "code",
   "execution_count": null,
   "metadata": {},
   "outputs": [],
   "source": [
    "len(real_labels)"
   ]
  },
  {
   "cell_type": "code",
   "execution_count": null,
   "metadata": {},
   "outputs": [],
   "source": [
    "real_labels"
   ]
  },
  {
   "cell_type": "code",
   "execution_count": null,
   "metadata": {},
   "outputs": [],
   "source": [
    "metrics.adjusted_mutual_info_score(real_labels, pred_labels[0])  "
   ]
  },
  {
   "cell_type": "code",
   "execution_count": null,
   "metadata": {},
   "outputs": [],
   "source": []
  }
 ],
 "metadata": {
  "kernelspec": {
   "display_name": "Python 3",
   "language": "python",
   "name": "python3"
  },
  "language_info": {
   "codemirror_mode": {
    "name": "ipython",
    "version": 3
   },
   "file_extension": ".py",
   "mimetype": "text/x-python",
   "name": "python",
   "nbconvert_exporter": "python",
   "pygments_lexer": "ipython3",
   "version": "3.6.4"
  }
 },
 "nbformat": 4,
 "nbformat_minor": 2
}
