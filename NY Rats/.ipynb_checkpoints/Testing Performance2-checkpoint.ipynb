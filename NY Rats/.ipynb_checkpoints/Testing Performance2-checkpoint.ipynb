{
 "cells": [
  {
   "cell_type": "code",
   "execution_count": null,
   "metadata": {},
   "outputs": [],
   "source": [
    "import numpy as np\n",
    "import pandas as pd\n",
    "import seaborn as sns\n",
    "import matplotlib.pyplot as plt\n",
    "from sklearn import metrics\n",
    "from sklearn.cluster import KMeans\n",
    "%matplotlib inline"
   ]
  },
  {
   "cell_type": "code",
   "execution_count": null,
   "metadata": {},
   "outputs": [],
   "source": [
    "data = pd.read_csv('Rat_Sightings.csv')"
   ]
  },
  {
   "cell_type": "code",
   "execution_count": null,
   "metadata": {},
   "outputs": [],
   "source": [
    "data = data.sample(frac=0.1, random_state=200)\n",
    "data = data.iloc[:, 23:26]\n",
    "data.shape"
   ]
  },
  {
   "cell_type": "code",
   "execution_count": null,
   "metadata": {},
   "outputs": [],
   "source": [
    "# for i in range(0,len(data)):\n",
    "#     print(data.iloc[i,0])"
   ]
  },
  {
   "cell_type": "code",
   "execution_count": null,
   "metadata": {},
   "outputs": [],
   "source": [
    "#pega os dados do data set\n",
    "list1=list(data['X Coordinate (State Plane)'])\n",
    "list2=list(data['Y Coordinate (State Plane)'])\n",
    "\n",
    "#transforma os dados em uma lista conjunta\n",
    "X = zip(list1,list2)\n",
    "dt=np.dtype('int')\n",
    "listaSemNaN=[]\n",
    "X=list(X)\n",
    "\n",
    "#remove dessa lista valores que causam erros por não serem numeros\n",
    "for i in range(0,len(X)):\n",
    "    tup=X[i]\n",
    "    if((X[i][0] == X[i][0]) is False or (X[i][1] == X[i][1]) is False):\n",
    "        nada = 0 #print \"Não é NaN\"\n",
    "    else:\n",
    "        listaSemNaN.append(tup)\n",
    "        \n",
    "#Transforma em um NP.Array para realizar contas matematicas da blibioteca numpy\n",
    "X = np.array(listaSemNaN,dtype=dt)"
   ]
  },
  {
   "cell_type": "code",
   "execution_count": null,
   "metadata": {},
   "outputs": [],
   "source": [
    "#data [data['Borough'] == 'BROOKLYN']\n",
    "real_labels = [];\n",
    "\n",
    "# for i in range(0,len(data)):\n",
    "#     #print(data.iloc[i,0])\n",
    "#     if(data.iloc[i,0] == 'BROOKLYN'):\n",
    "#         real_labels.append(0);\n",
    "#     elif(data.iloc[i,0] == 'MANHATTAN') :\n",
    "#         real_labels.append(1);\n",
    "#     elif(data.iloc[i,0] == 'BRONX') :\n",
    "#         real_labels.append(2);\n",
    "#     elif(data.iloc[i,0] == 'STATEN ISLAND') :\n",
    "#         real_labels.append(3);\n",
    "#     elif(data.iloc[i,0] == 'QUEENS') :\n",
    "#         real_labels.append(4);\n",
    "\n",
    "for i in range(0,len(X)):\n",
    "    tup=X[i]\n",
    "    if((X[i][0] == X[i][0]) is False or (X[i][1] == X[i][1]) is False):\n",
    "        nada = 0 #print \"Não é NaN\"\n",
    "    else:\n",
    "        if(data.iloc[i,0] == 'BROOKLYN'):\n",
    "            real_labels.append(0);\n",
    "        elif(data.iloc[i,0] == 'MANHATTAN') :\n",
    "            real_labels.append(2);\n",
    "        elif(data.iloc[i,0] == 'BRONX') :\n",
    "            real_labels.append(1);\n",
    "        elif(data.iloc[i,0] == 'STATEN ISLAND') :\n",
    "            real_labels.append(3);\n",
    "        elif(data.iloc[i,0] == 'QUEENS') :\n",
    "            real_labels.append(4);\n",
    "        \n",
    "len(real_labels)"
   ]
  },
  {
   "cell_type": "code",
   "execution_count": null,
   "metadata": {},
   "outputs": [],
   "source": [
    "print real_labels\n"
   ]
  },
  {
   "cell_type": "code",
   "execution_count": null,
   "metadata": {},
   "outputs": [],
   "source": [
    "scores = []\n",
    "labels = []\n",
    "#range_values = np.arange(2, 4)"
   ]
  },
  {
   "cell_type": "code",
   "execution_count": null,
   "metadata": {},
   "outputs": [],
   "source": [
    "\n",
    "kmeans = KMeans(init= 'k-means++', n_clusters=5, n_init=10)\n",
    "teste = kmeans.fit_predict(X)\n",
    "score = metrics.silhouette_score(X, kmeans.labels_, metric='euclidean', sample_size=len(real_labels))\n",
    "label = kmeans.labels_\n",
    "\n",
    "plt.figure(figsize=(10,6))\n",
    "plt.scatter(X[:, 0], X[:, 1], c=label)\n",
    "plt.title(\"Teste num de cluster \"+str(5))\n",
    "    \n",
    "print('\\nNumber of clusters =', 5)\n",
    "print('Silhouette score =', score)\n",
    "print('Labels =', label)\n",
    "    \n",
    "scores.append(score)\n",
    "labels.append(label)"
   ]
  },
  {
   "cell_type": "code",
   "execution_count": null,
   "metadata": {},
   "outputs": [],
   "source": [
    "df = pd.DataFrame({\"x\":np.array(X[:, 0]).flatten(), \n",
    "                   \"y\":np.array(X[:, 1]).flatten(), \n",
    "                   \"colors\":np.array(labels[0]).flatten()})"
   ]
  },
  {
   "cell_type": "code",
   "execution_count": null,
   "metadata": {},
   "outputs": [],
   "source": [
    "#set font size of labels on matplotlib plots\n",
    "plt.rc('font', size=16)\n",
    "\n",
    "#set style of plots\n",
    "sns.set_style('white')\n",
    "\n",
    "#define a custom palette\n",
    "customPalette = ['#630C3A', '#39C8C6', '#D3500C', '#FFB139']\n",
    "sns.set_palette(customPalette)\n",
    "sns.palplot(customPalette)"
   ]
  },
  {
   "cell_type": "code",
   "execution_count": null,
   "metadata": {},
   "outputs": [],
   "source": [
    "#plot data with seaborn\n",
    "facet = sns.lmplot(data=df, x='x', y='y', hue='colors', size=5, aspect=1.8,\n",
    "                   fit_reg=False, legend=True, legend_out=True)"
   ]
  },
  {
   "cell_type": "code",
   "execution_count": null,
   "metadata": {},
   "outputs": [],
   "source": [
    "print list(labels)\n"
   ]
  },
  {
   "cell_type": "code",
   "execution_count": null,
   "metadata": {},
   "outputs": [],
   "source": [
    "teste=list(labels[0])"
   ]
  },
  {
   "cell_type": "code",
   "execution_count": null,
   "metadata": {},
   "outputs": [],
   "source": [
    "%pprint"
   ]
  },
  {
   "cell_type": "code",
   "execution_count": null,
   "metadata": {},
   "outputs": [],
   "source": [
    "teste"
   ]
  },
  {
   "cell_type": "code",
   "execution_count": null,
   "metadata": {},
   "outputs": [],
   "source": [
    "real_labels"
   ]
  },
  {
   "cell_type": "code",
   "execution_count": null,
   "metadata": {},
   "outputs": [],
   "source": [
    "len(labels[0])"
   ]
  },
  {
   "cell_type": "code",
   "execution_count": null,
   "metadata": {},
   "outputs": [],
   "source": [
    "metrics.adjusted_mutual_info_score(real_labels,teste)  "
   ]
  },
  {
   "cell_type": "code",
   "execution_count": null,
   "metadata": {},
   "outputs": [],
   "source": []
  }
 ],
 "metadata": {
  "kernelspec": {
   "display_name": "Python 3",
   "language": "python",
   "name": "python3"
  },
  "language_info": {
   "codemirror_mode": {
    "name": "ipython",
    "version": 3
   },
   "file_extension": ".py",
   "mimetype": "text/x-python",
   "name": "python",
   "nbconvert_exporter": "python",
   "pygments_lexer": "ipython3",
   "version": "3.6.5"
  }
 },
 "nbformat": 4,
 "nbformat_minor": 2
}
